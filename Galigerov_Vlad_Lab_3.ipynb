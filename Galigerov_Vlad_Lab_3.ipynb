{
 "cells": [
  {
   "cell_type": "markdown",
   "metadata": {
    "colab_type": "text",
    "id": "oaa2japEyldg"
   },
   "source": [
    "3.1.7, 3.3.2, 3.9.2"
   ]
  },
  {
   "cell_type": "markdown",
   "metadata": {
    "colab_type": "text",
    "id": "BsFcRftbzDa-"
   },
   "source": [
    "## 3.1.7\n",
    "$n = 6 \\\\\n",
    "a_{ij} = \\frac{256}{(5+c_{ij}\\cdot0.256)^5}$"
   ]
  },
  {
   "cell_type": "code",
   "execution_count": 1,
   "metadata": {
    "colab": {},
    "colab_type": "code",
    "id": "1gJZy-aeyhdo"
   },
   "outputs": [],
   "source": [
    "import numpy as np\n",
    "from numpy.linalg import solve, cond, norm\n",
    "import copy"
   ]
  },
  {
   "cell_type": "markdown",
   "metadata": {
    "colab_type": "text",
    "id": "8ImFMPWq6piZ"
   },
   "source": [
    "## 1."
   ]
  },
  {
   "cell_type": "code",
   "execution_count": 4,
   "metadata": {
    "colab": {},
    "colab_type": "code",
    "id": "A3np9w4A459U"
   },
   "outputs": [],
   "source": [
    "n = 6\n",
    "N = 7\n",
    "def c(i, j):\n",
    "    return 0.1*N*i*j\n",
    "\n",
    "def a(i, j):\n",
    "    return 256/(5+c(i,j)*0.256)**5"
   ]
  },
  {
   "cell_type": "code",
   "execution_count": 5,
   "metadata": {
    "colab": {},
    "colab_type": "code",
    "id": "vnjk2gJ43E2s"
   },
   "outputs": [],
   "source": [
    "A = np.array([[a(i,j) for j in range(1, n+1)] for i in range(1, n+1)]).reshape((n, n))\n",
    "b = np.array([N]*n)"
   ]
  },
  {
   "cell_type": "code",
   "execution_count": 6,
   "metadata": {
    "colab": {
     "base_uri": "https://localhost:8080/",
     "height": 51
    },
    "colab_type": "code",
    "id": "NhmnLVKq3bWn",
    "outputId": "ea3d7747-9644-4f88-a7e1-ef1131b8ce61"
   },
   "outputs": [
    {
     "data": {
      "text/plain": [
       "array([  1715.381414  , -12130.10702664,  40418.13434764, -68845.50948181,\n",
       "        57944.4604052 , -19088.68444808])"
      ]
     },
     "execution_count": 6,
     "metadata": {},
     "output_type": "execute_result"
    }
   ],
   "source": [
    "x_prec = solve(A, b)\n",
    "x_prec"
   ]
  },
  {
   "cell_type": "markdown",
   "metadata": {
    "colab_type": "text",
    "id": "cU7m-aFFHz44"
   },
   "source": [
    "Проверка:"
   ]
  },
  {
   "cell_type": "code",
   "execution_count": 7,
   "metadata": {
    "colab": {
     "base_uri": "https://localhost:8080/",
     "height": 34
    },
    "colab_type": "code",
    "id": "8V5DbWY_3c5O",
    "outputId": "8fd94732-13b0-4e62-c507-12d9abb30d5d"
   },
   "outputs": [
    {
     "data": {
      "text/plain": [
       "array([7., 7., 7., 7., 7., 7.])"
      ]
     },
     "execution_count": 7,
     "metadata": {},
     "output_type": "execute_result"
    }
   ],
   "source": [
    "A@x_prec"
   ]
  },
  {
   "cell_type": "markdown",
   "metadata": {
    "colab_type": "text",
    "id": "wCtDdVoE6tZx"
   },
   "source": [
    "## 2."
   ]
  },
  {
   "cell_type": "code",
   "execution_count": 8,
   "metadata": {
    "colab": {
     "base_uri": "https://localhost:8080/",
     "height": 34
    },
    "colab_type": "code",
    "id": "4vsy_8lB6k9G",
    "outputId": "8d1b3cfc-102b-49e3-9f7d-c881fa0b294b"
   },
   "outputs": [
    {
     "data": {
      "text/plain": [
       "3998997.78887232"
      ]
     },
     "execution_count": 8,
     "metadata": {},
     "output_type": "execute_result"
    }
   ],
   "source": [
    "cnd = cond(A, p=np.inf)\n",
    "cnd"
   ]
  },
  {
   "cell_type": "markdown",
   "metadata": {
    "colab_type": "text",
    "id": "oitFAPrm8xqr"
   },
   "source": [
    "## 3."
   ]
  },
  {
   "cell_type": "code",
   "execution_count": 9,
   "metadata": {
    "colab": {},
    "colab_type": "code",
    "id": "5F1U-j7F7vcd"
   },
   "outputs": [],
   "source": [
    "def b_i(b, i, delta=0.001):\n",
    "    d = np.array([0]*b.size, dtype=float)\n",
    "    d[i] = delta\n",
    "    return b + d"
   ]
  },
  {
   "cell_type": "code",
   "execution_count": 10,
   "metadata": {
    "colab": {},
    "colab_type": "code",
    "id": "Wdo5CWzP9mwB"
   },
   "outputs": [],
   "source": [
    "def d_ch(A, x1, b1):\n",
    "    _x = solve(A, b1)\n",
    "    return norm(x1 - _x, ord=np.inf)/norm(x1, ord=np.inf)"
   ]
  },
  {
   "cell_type": "code",
   "execution_count": 11,
   "metadata": {
    "colab": {},
    "colab_type": "code",
    "id": "1XLLMAwU-taS"
   },
   "outputs": [],
   "source": [
    "d = [d_ch(A, x_prec, b_i(b, i)) for i in range(0, n)]"
   ]
  },
  {
   "cell_type": "code",
   "execution_count": 12,
   "metadata": {
    "colab": {
     "base_uri": "https://localhost:8080/",
     "height": 119
    },
    "colab_type": "code",
    "id": "wB9oprqC_I4I",
    "outputId": "cb153690-2f7b-4eb0-e5fb-b4219b6cf787"
   },
   "outputs": [
    {
     "data": {
      "text/plain": [
       "[0.000645515563417822,\n",
       " 0.007762366810405227,\n",
       " 0.03420153558329723,\n",
       " 0.07017354787599629,\n",
       " 0.06717102644995922,\n",
       " 0.024316852067923035]"
      ]
     },
     "execution_count": 12,
     "metadata": {},
     "output_type": "execute_result"
    }
   ],
   "source": [
    "d"
   ]
  },
  {
   "cell_type": "markdown",
   "metadata": {
    "colab_type": "text",
    "id": "V_jdTQVqKmA5"
   },
   "source": [
    "## 4.\n",
    "Наибольшую погрешность даёт четвертая компонента вектора b (индекс = 3)"
   ]
  },
  {
   "cell_type": "markdown",
   "metadata": {
    "colab_type": "text",
    "id": "CKxf61EMN5b9"
   },
   "source": [
    "## 5."
   ]
  },
  {
   "cell_type": "code",
   "execution_count": 13,
   "metadata": {
    "colab": {
     "base_uri": "https://localhost:8080/",
     "height": 51
    },
    "colab_type": "code",
    "id": "bX7TbYei3wA0",
    "outputId": "dd78b0a8-97f5-4c0d-ae4a-de4e2742b1e2"
   },
   "outputs": [
    {
     "data": {
      "text/plain": [
       "array([  1757.11786592, -12655.48450671,  42772.75648994, -73676.64313748,\n",
       "        62568.88394356, -20762.79051769])"
      ]
     },
     "execution_count": 13,
     "metadata": {},
     "output_type": "execute_result"
    }
   ],
   "source": [
    "b_3 = b_i(b, 3)\n",
    "_x_3 = solve(A, b_3)\n",
    "_x_3"
   ]
  },
  {
   "cell_type": "code",
   "execution_count": 14,
   "metadata": {
    "colab": {},
    "colab_type": "code",
    "id": "49cLKBBq4bM7"
   },
   "outputs": [],
   "source": [
    "d_b_3 = norm(b - b_3, ord=np.inf)/norm(b, ord=np.inf)\n",
    "d_x_3 = norm(x_prec - _x_3, ord=np.inf)/norm(x_prec, ord=np.inf)"
   ]
  },
  {
   "cell_type": "code",
   "execution_count": 15,
   "metadata": {
    "colab": {
     "base_uri": "https://localhost:8080/",
     "height": 34
    },
    "colab_type": "code",
    "id": "dymlRcTwKkAd",
    "outputId": "9634a79d-ef45-4250-8d41-c48f1d6857a9"
   },
   "outputs": [
    {
     "data": {
      "text/plain": [
       "571.2853984105222"
      ]
     },
     "execution_count": 15,
     "metadata": {},
     "output_type": "execute_result"
    }
   ],
   "source": [
    "cnd*d_b_3"
   ]
  },
  {
   "cell_type": "markdown",
   "metadata": {
    "colab_type": "text",
    "id": "D2raf1G796Pr"
   },
   "source": [
    "Теоритическая погрешность очень велика из-за того, что исходная матрица A плохо обусловлена. Значит, даже при незначительной относительной погрешности $\\delta (b')$, где $b' = Ax'$ ($x'$ - это приближенный результат), решение сестемы может значительно отличаться от истинного."
   ]
  },
  {
   "cell_type": "markdown",
   "metadata": {
    "colab_type": "text",
    "id": "gte6LGRM9Gdt"
   },
   "source": [
    "## 3.3.2"
   ]
  },
  {
   "cell_type": "code",
   "execution_count": 16,
   "metadata": {
    "colab": {},
    "colab_type": "code",
    "id": "pYsC5-5x9KAH"
   },
   "outputs": [],
   "source": [
    "A = np.array([[3, 1, 0, 0, 0],\n",
    "              [1, 2, 1, 0, 0],\n",
    "              [0, 1, 1, 1, 0],\n",
    "              [0, 0, 1, 0, 1],\n",
    "              [0, 0, 0, 1, 1]], dtype=np.float32).reshape(5, 5)"
   ]
  },
  {
   "cell_type": "code",
   "execution_count": 17,
   "metadata": {
    "colab": {
     "base_uri": "https://localhost:8080/",
     "height": 102
    },
    "colab_type": "code",
    "id": "lZe-dSqe77YF",
    "outputId": "83194eea-8111-4516-f3a0-20dc67f6b513"
   },
   "outputs": [
    {
     "name": "stdout",
     "output_type": "stream",
     "text": [
      "[29  0  0  0  0]\n",
      "[ 0 83  0  0  0]\n",
      "[0 0 5 0 0]\n",
      "[ 0  0  0 77  0]\n",
      "[ 0  0  0  0 96]\n"
     ]
    }
   ],
   "source": [
    "def b_set_func(i, n=5):\n",
    "  temp = np.array([0]*n)\n",
    "  temp[i] = np.random.randint(100)+1\n",
    "      \n",
    "  print(temp)\n",
    "  return temp\n",
    "\n",
    "k=5\n",
    "b_set = [b_set_func(i) for i in range(k)]\n",
    "x_set = [solve(A, b_set[i]) for i in range(k)]\n",
    "norm_A_rev = np.max([norm(x_set[i])/norm(b_set[i]) for i in range(k)])\n",
    "norm_A = norm(A, ord=np.inf)"
   ]
  },
  {
   "cell_type": "code",
   "execution_count": 18,
   "metadata": {
    "colab": {
     "base_uri": "https://localhost:8080/",
     "height": 34
    },
    "colab_type": "code",
    "id": "csXpn7NJ_tI8",
    "outputId": "eb0a129a-3a69-43d0-8fc7-00b8aaceac14"
   },
   "outputs": [
    {
     "data": {
      "text/plain": [
       "5.268311118453079"
      ]
     },
     "execution_count": 18,
     "metadata": {},
     "output_type": "execute_result"
    }
   ],
   "source": [
    "norm_A*norm_A_rev"
   ]
  },
  {
   "cell_type": "code",
   "execution_count": 19,
   "metadata": {
    "colab": {
     "base_uri": "https://localhost:8080/",
     "height": 34
    },
    "colab_type": "code",
    "id": "KkDOPhVZ_v04",
    "outputId": "df5ba062-376b-43fe-e0d5-c58e5e1ab5a1"
   },
   "outputs": [
    {
     "data": {
      "text/plain": [
       "7.5435047"
      ]
     },
     "execution_count": 19,
     "metadata": {},
     "output_type": "execute_result"
    }
   ],
   "source": [
    "cond(A)"
   ]
  },
  {
   "cell_type": "markdown",
   "metadata": {
    "colab_type": "text",
    "id": "nr7xnAm1Ccxq"
   },
   "source": [
    "## 3.9.2\n",
    "\n",
    "$n=20 \\\\\n",
    "m=8 \\\\\n",
    "b_{i} = 200+50*i$\n",
    "\n",
    "$A_{i, j} = \n",
    "\\begin{cases} \n",
    "\\frac{i+j}{m+n}, & \\mbox{if } i \\ne j \\\\\n",
    "n + m^2 + \\frac{j}{m} + \\frac{i}{n}, & \\mbox{if } i = j\n",
    "\\end{cases} \\\\\n",
    "i, j = 1 \\dots n $"
   ]
  },
  {
   "cell_type": "code",
   "execution_count": 20,
   "metadata": {
    "colab": {},
    "colab_type": "code",
    "id": "HuUgee4j_xSY"
   },
   "outputs": [],
   "source": [
    "def chol(a):\n",
    "  \n",
    "  \n",
    "    a = copy.deepcopy(a)\n",
    "    \n",
    "    m=a.shape[0]\n",
    "    \n",
    "\n",
    "    a[0, 0] = np.sqrt(a[0, 0])\n",
    "    for i in range(1, m):\n",
    "        a[i, 0] = a[i, 0] / a[0, 0]\n",
    "     \n",
    "    for k in range(1, m-1):\n",
    "        a[k, k] = (a[k, k] - sum([a[k, q]**2 for q in range(0, k)]))**0.5\n",
    "        for i in range(k+1, m):\n",
    "            a[i, k] = (a[i, k] - sum([a[i, q]*a[k, q] for q in range(0, k)]))/a[k, k]\n",
    "          \n",
    "    a[m-1, m-1] = (a[m-1, m-1] - sum([a[m-1, q]**2 for q in range(0, m-1)]))**0.5\n",
    "    \n",
    "    for i in range(m):\n",
    "        for j in range(i+1, m):\n",
    "            a[i, j] = 0\n",
    "\n",
    "    return a\n",
    "        "
   ]
  },
  {
   "cell_type": "code",
   "execution_count": 21,
   "metadata": {
    "colab": {},
    "colab_type": "code",
    "id": "Sz_H6xJuWB0I"
   },
   "outputs": [],
   "source": [
    "n=20\n",
    "m=8\n",
    "def Aij(i, j, m=m, n=n):\n",
    "    if i == j:\n",
    "        return n + m**2 + j/m + i/n\n",
    "    else:\n",
    "        return (i+j)/(m+n)\n",
    "def bi(i):\n",
    "    return 200 + 50*i"
   ]
  },
  {
   "cell_type": "code",
   "execution_count": 22,
   "metadata": {
    "colab": {},
    "colab_type": "code",
    "id": "FoOOIWrTQqBk"
   },
   "outputs": [],
   "source": [
    "A = np.array([[Aij(i, j) for i in range(1, n+1)] for j in range(1, n+1)]).reshape(n, n)\n",
    "b = np.array([bi(i) for i in range(1, n+1)])\n",
    "L = chol(A)\n",
    "LT = L.T\n",
    "y = solve(L, b)\n",
    "x = solve(LT, y)"
   ]
  },
  {
   "cell_type": "code",
   "execution_count": 23,
   "metadata": {
    "colab": {
     "base_uri": "https://localhost:8080/",
     "height": 85
    },
    "colab_type": "code",
    "id": "QVWgwhZdQu6L",
    "outputId": "6ee34c30-443a-47a5-f922-12d43a287a6a"
   },
   "outputs": [
    {
     "data": {
      "text/plain": [
       "array([ 2.13216095,  2.6630651 ,  3.19266488,  3.72096508,  4.24797048,\n",
       "        4.77368584,  5.29811588,  5.82126532,  6.34313883,  6.86374109,\n",
       "        7.38307673,  7.90115037,  8.4179666 ,  8.93352999,  9.4478451 ,\n",
       "        9.96091645, 10.47274855, 10.98334589, 11.49271292, 12.00085408])"
      ]
     },
     "execution_count": 23,
     "metadata": {},
     "output_type": "execute_result"
    }
   ],
   "source": [
    "x"
   ]
  },
  {
   "cell_type": "code",
   "execution_count": 24,
   "metadata": {
    "colab": {
     "base_uri": "https://localhost:8080/",
     "height": 34
    },
    "colab_type": "code",
    "id": "9dECJjlRXnQF",
    "outputId": "529836eb-71ec-4c02-cad1-6024ab2fa836"
   },
   "outputs": [
    {
     "data": {
      "text/plain": [
       "1.2144435476138873"
      ]
     },
     "execution_count": 24,
     "metadata": {},
     "output_type": "execute_result"
    }
   ],
   "source": [
    "cond(A)"
   ]
  },
  {
   "cell_type": "code",
   "execution_count": 25,
   "metadata": {
    "colab": {},
    "colab_type": "code",
    "id": "8GTEYdqPX0Ps"
   },
   "outputs": [],
   "source": [
    "norm_A_rev = norm(x, ord=np.inf)/norm(b, ord=np.inf)\n",
    "norm_A = norm(A, ord=np.inf)"
   ]
  },
  {
   "cell_type": "code",
   "execution_count": 26,
   "metadata": {
    "colab": {
     "base_uri": "https://localhost:8080/",
     "height": 34
    },
    "colab_type": "code",
    "id": "qIhJIfOxtcq_",
    "outputId": "478f9c91-f2aa-4064-8187-9eedbeffa961"
   },
   "outputs": [
    {
     "data": {
      "text/plain": [
       "1.0786481942801718"
      ]
     },
     "execution_count": 26,
     "metadata": {},
     "output_type": "execute_result"
    }
   ],
   "source": [
    "norm_A*norm_A_rev"
   ]
  },
  {
   "cell_type": "code",
   "execution_count": 0,
   "metadata": {
    "colab": {},
    "colab_type": "code",
    "id": "R0r31Q73twJ4"
   },
   "outputs": [],
   "source": []
  }
 ],
 "metadata": {
  "colab": {
   "collapsed_sections": [],
   "name": "Lab_3.ipynb",
   "provenance": [],
   "version": "0.3.2"
  },
  "kernelspec": {
   "display_name": "Python 3",
   "language": "python",
   "name": "python3"
  },
  "language_info": {
   "codemirror_mode": {
    "name": "ipython",
    "version": 3
   },
   "file_extension": ".py",
   "mimetype": "text/x-python",
   "name": "python",
   "nbconvert_exporter": "python",
   "pygments_lexer": "ipython3",
   "version": "3.7.1"
  }
 },
 "nbformat": 4,
 "nbformat_minor": 1
}
