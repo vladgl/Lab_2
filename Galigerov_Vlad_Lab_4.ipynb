{
 "cells": [
  {
   "cell_type": "markdown",
   "metadata": {},
   "source": [
    "Вариант 7\n",
    "\n",
    "4.1.7, 4.2, 4.3, 4.6.2"
   ]
  },
  {
   "cell_type": "code",
   "execution_count": 1,
   "metadata": {},
   "outputs": [],
   "source": [
    "import numpy as np\n",
    "from numpy.linalg import solve, norm, cond\n",
    "import copy, sys"
   ]
  },
  {
   "cell_type": "markdown",
   "metadata": {},
   "source": [
    "## 4.1.7"
   ]
  },
  {
   "cell_type": "markdown",
   "metadata": {},
   "source": [
    "#### 1."
   ]
  },
  {
   "cell_type": "code",
   "execution_count": 2,
   "metadata": {},
   "outputs": [
    {
     "data": {
      "text/plain": [
       "array([ 0.77777755,  2.0000005 , -2.9999995 , -1.2121215 ], dtype=float32)"
      ]
     },
     "execution_count": 2,
     "metadata": {},
     "output_type": "execute_result"
    }
   ],
   "source": [
    "A = np.array([[4.95, 1.12, 2.9, 0.66],\n",
    "              [8.91, 19.9, -4.0, 6.93],\n",
    "              [-2.97, 2.2, -5.8, 0],\n",
    "              [5.94, 1.3, 10.5, 17.82]],\n",
    "             dtype=np.float32).reshape([4, 4])\n",
    "b = np.array([-3.41, 50.33, 19.49, -45.88], dtype=np.float32)\n",
    "x_prec = solve(A, b)\n",
    "x_prec"
   ]
  },
  {
   "cell_type": "markdown",
   "metadata": {},
   "source": [
    "#### 2."
   ]
  },
  {
   "cell_type": "code",
   "execution_count": 3,
   "metadata": {},
   "outputs": [],
   "source": [
    "def modify(A, b):\n",
    "    n = len(A)\n",
    "    B = np.zeros(shape=(n,n))\n",
    "    c = np.zeros(shape=(n,))\n",
    "    for i in range(n):\n",
    "        c[i] = b[i]/A[i, i]\n",
    "        for j in range(n):\n",
    "            if i != j:\n",
    "                B[i, j] = -A[i, j]/A[i,i]\n",
    "    return B, c\n",
    "def get_b2(B):\n",
    "    B2 = copy.deepcopy(B)\n",
    "    m = len(B2)\n",
    "    for i in range(m):\n",
    "        for j in range(i+1):\n",
    "            B2[i, j] = 0\n",
    "    return B2"
   ]
  },
  {
   "cell_type": "code",
   "execution_count": 4,
   "metadata": {},
   "outputs": [
    {
     "data": {
      "text/plain": [
       "0.9969849437475204"
      ]
     },
     "execution_count": 4,
     "metadata": {},
     "output_type": "execute_result"
    }
   ],
   "source": [
    "B, c = modify(A, b)\n",
    "norm(B, ord=np.inf)"
   ]
  },
  {
   "cell_type": "markdown",
   "metadata": {},
   "source": [
    "#### 3."
   ]
  },
  {
   "cell_type": "code",
   "execution_count": 5,
   "metadata": {},
   "outputs": [],
   "source": [
    "def zeidel(A, b, x0, n_max, eps, sparse=False):\n",
    "    B, c = modify(A, b)\n",
    "    m = x0.shape[0]\n",
    "    x = np.zeros(m)\n",
    "    x_prev = copy.deepcopy(x0)  \n",
    "    n_iter = 0\n",
    "    n_iter_prev = -1\n",
    "    B2 = get_b2(B)\n",
    "    eps = (1-norm(B, ord=np.inf))/norm(B2, ord=np.inf)*eps\n",
    "    while(n_iter != n_max):\n",
    "        n_iter_prev = n_iter\n",
    "        n_iter+=1\n",
    "        assert (n_iter<sys.maxsize-1), \"Too many iterations without convergence\"\n",
    "        for i in range(m):\n",
    "            x[i] = sum([B[i, j]*x[j] for j in range(0, i)]) + \\\n",
    "            sum([B[i, j]*x_prev[j] for j in range(i+1, m)]) + \\\n",
    "            c[i]\n",
    "        delta = norm(x - x_prev, ord=np.inf)\n",
    "        if delta < eps:\n",
    "            return x, n_iter, delta\n",
    "        x_prev = copy.deepcopy(x)    \n",
    "    return x, n_iter, delta"
   ]
  },
  {
   "cell_type": "markdown",
   "metadata": {},
   "source": [
    "#### 4."
   ]
  },
  {
   "cell_type": "code",
   "execution_count": 6,
   "metadata": {},
   "outputs": [
    {
     "data": {
      "text/plain": [
       "array([ 0.74463897,  2.02722881, -2.97270228, -1.21914588])"
      ]
     },
     "execution_count": 6,
     "metadata": {},
     "output_type": "execute_result"
    }
   ],
   "source": [
    "x0_1 = np.array([1, 1, 1, 1]).reshape([-1,])\n",
    "x_zd_1 = zeidel(A, b, x0_1, n_max=10, eps=10**-11)[0]\n",
    "x_zd_1"
   ]
  },
  {
   "cell_type": "code",
   "execution_count": 7,
   "metadata": {},
   "outputs": [
    {
     "data": {
      "text/plain": [
       "0.03313858610631426"
      ]
     },
     "execution_count": 7,
     "metadata": {},
     "output_type": "execute_result"
    }
   ],
   "source": [
    "norm(x_zd_1 - x_prec, ord=np.inf)"
   ]
  },
  {
   "cell_type": "markdown",
   "metadata": {},
   "source": [
    "#### 5."
   ]
  },
  {
   "cell_type": "code",
   "execution_count": 8,
   "metadata": {},
   "outputs": [
    {
     "data": {
      "text/plain": [
       "array([ 0.77676934,  2.00082892, -2.999169  , -1.21233522])"
      ]
     },
     "execution_count": 8,
     "metadata": {},
     "output_type": "execute_result"
    }
   ],
   "source": [
    "x0_2 = np.array([0.7, 2, -2.9, -1.2]).reshape([-1,])\n",
    "x_zd_2 = zeidel(A, b, x0_2, n_max=10, eps=10**-11)[0]\n",
    "x_zd_2"
   ]
  },
  {
   "cell_type": "code",
   "execution_count": 9,
   "metadata": {},
   "outputs": [
    {
     "data": {
      "text/plain": [
       "0.00100820767923393"
      ]
     },
     "execution_count": 9,
     "metadata": {},
     "output_type": "execute_result"
    }
   ],
   "source": [
    "norm(x_zd_2 - x_prec, ord=np.inf)"
   ]
  },
  {
   "cell_type": "markdown",
   "metadata": {},
   "source": [
    "Второе начальное приближение находится ближе к точному решению, чем первое, поэтому при нём алгоритм сходится к истинному решению за меньшее число итераций"
   ]
  },
  {
   "cell_type": "markdown",
   "metadata": {},
   "source": [
    "## 4.2"
   ]
  },
  {
   "cell_type": "code",
   "execution_count": 10,
   "metadata": {},
   "outputs": [
    {
     "data": {
      "text/plain": [
       "3.103711732066472e-09"
      ]
     },
     "execution_count": 10,
     "metadata": {},
     "output_type": "execute_result"
    }
   ],
   "source": [
    "ans = zeidel(A, b, x0_1, n_max=None, eps=10**-6)\n",
    "ans[2]"
   ]
  },
  {
   "cell_type": "code",
   "execution_count": 11,
   "metadata": {},
   "outputs": [
    {
     "name": "stdout",
     "output_type": "stream",
     "text": [
      "Решение: [ 0.77777755  2.00000053 -2.99999948 -1.21212151]\n",
      "Количество итераций: 45\n"
     ]
    }
   ],
   "source": [
    "print(\"Решение: {}\\nКоличество итераций: {}\".format(ans[0], ans[1]))"
   ]
  },
  {
   "cell_type": "markdown",
   "metadata": {},
   "source": [
    "## 4.3"
   ]
  },
  {
   "cell_type": "code",
   "execution_count": 12,
   "metadata": {},
   "outputs": [
    {
     "name": "stdout",
     "output_type": "stream",
     "text": [
      "Теоритическая погрешность: 5.8392865283368565\n",
      "Реальная погрешность: 0.03313858610631426\n"
     ]
    }
   ],
   "source": [
    "ans = zeidel(A, b, x0_1, n_max=10, eps=10**-12)  # ||x_{n} - x_{n-1}||\n",
    "delta = ans[2]\n",
    "B, c = modify(A, b)\n",
    "B2 = get_b2(B)\n",
    "err_theor = norm(B2, ord=np.inf)/(1-norm(B, ord=np.inf))*delta\n",
    "err_real = norm(ans[0] - x_prec, ord = np.inf)\n",
    "print(\"Теоритическая погрешность: {}\\nРеальная погрешность: {}\".format(err_theor, err_real))"
   ]
  },
  {
   "cell_type": "markdown",
   "metadata": {},
   "source": [
    "Известно, что при выполнении условия $\\|B\\|_\\infty < 1$ метод Зейделя сходится со скоростью геометрической прогрессии при любом начальном приближении. \n",
    "При этом апостериорная оценка погрешности на шаге n:\n",
    "\n",
    "$\\|x_n - \\overline{x}\\|_\\infty \\le \\frac{\\|B\\|_\\infty}{1 - \\|B_2\\|_\\infty} \\|x_n - x_{n-1}\\|_\\infty$\n"
   ]
  },
  {
   "cell_type": "markdown",
   "metadata": {},
   "source": [
    "## 4.6.2"
   ]
  },
  {
   "cell_type": "markdown",
   "metadata": {},
   "source": [
    "Следующие два класса реализуют матрицу A и вектор b из условия"
   ]
  },
  {
   "cell_type": "code",
   "execution_count": 13,
   "metadata": {},
   "outputs": [],
   "source": [
    "class SparseDiagMatrix():\n",
    "    def __init__(self):\n",
    "        self.size = 35\n",
    "    def __getitem__(self, i):\n",
    "        if type(i) == int:\n",
    "            if i >= self.size:\n",
    "                raise IndexError()\n",
    "            row_i = [0 for i in range(self.size)]\n",
    "            row_i[i] = 220\n",
    "            if i < self.size - 1:\n",
    "                row_i[i+1] = 22\n",
    "            if i < self.size - 4:\n",
    "                row_i[i+4] = 2\n",
    "            return row_i\n",
    "        else:\n",
    "            j = i[1]\n",
    "            i = i[0]   \n",
    "            \n",
    "            if i >= self.size or j >= self.size:\n",
    "                raise IndexError()\n",
    "            if i == j:\n",
    "                return 220\n",
    "            elif j - i == 1:\n",
    "                return 22\n",
    "            elif j - i == 4:\n",
    "                return 2\n",
    "            else:\n",
    "                return 0\n",
    "    def __len__(self):\n",
    "        return self.size \n",
    "class b_i():\n",
    "    def __init__(self):\n",
    "        self.size = 35\n",
    "    def __getitem__(self, i):\n",
    "        if type(i) == int:\n",
    "            if i >= self.size:\n",
    "                raise IndexError()\n",
    "            return (i+1)*np.exp(22/(i+1))*np.cos(11/(i+1))               \n",
    "    def __len__(self):\n",
    "        return self.size"
   ]
  },
  {
   "cell_type": "markdown",
   "metadata": {},
   "source": [
    "Данный класс реализует метод CRS для хранения разреженных матриц "
   ]
  },
  {
   "cell_type": "code",
   "execution_count": 14,
   "metadata": {},
   "outputs": [],
   "source": [
    "class MatrixCRS():   #compressed row storage\n",
    "    def __init__(self, matrix, zeros=False):      \n",
    "        self.m = len(matrix)\n",
    "        self.n = len(matrix[0])\n",
    "        if not zeros:\n",
    "            self.values, self.col, self.rowIndex = MatrixCRS.get_crs(matrix)\n",
    "        else:\n",
    "            self.values, self.col, self.rowIndex = [], [], [0 for _ in range(self.m+1)]\n",
    "    def __getitem__(self, i):\n",
    "        if type(i) == int:\n",
    "            if i >= self.m:\n",
    "                raise IndexError()\n",
    "            row_i = [0 for i in range(self.n)]\n",
    "            val_ind_begin = self.rowIndex[i]\n",
    "            val_ind_end = self.rowIndex[i+1]\n",
    "            for i in range(val_ind_begin, val_ind_end):\n",
    "                row_i[self.col[i]] = self.values[i]\n",
    "            return row_i\n",
    "        else:\n",
    "            j = i[1]\n",
    "            i = i[0]\n",
    "            if i >= self.m or j >= self.n:\n",
    "                raise IndexError()\n",
    "            val_ind_begin = self.rowIndex[i]\n",
    "            val_ind_end = self.rowIndex[i+1]\n",
    "            for i in range(val_ind_begin, val_ind_end):\n",
    "                if self.col[i] == j:\n",
    "                    return self.values[i]\n",
    "            return 0  \n",
    "    def __setitem__(self, i, value):\n",
    "        if type(i) == int:\n",
    "            if i >= self.m:\n",
    "                raise IndexError()\n",
    "        else:                \n",
    "            j = i[1]\n",
    "            i = i[0]\n",
    "            if i >= self.m or j >= self.n:\n",
    "                raise IndexError()\n",
    "            val_ind_begin = self.rowIndex[i]\n",
    "            val_ind_end = self.rowIndex[i+1]\n",
    "            if val_ind_begin == val_ind_end:  ##елси нулевая строка\n",
    "                if value == 0:\n",
    "                    return\n",
    "                k = val_ind_begin-1\n",
    "                self.values = self.values[:k+1] + [value] + self.values[k+1:]\n",
    "                self.col = self.col[:k+1] + [j] + self.col[k+1:]\n",
    "                for l in range(i+1, self.m+1):\n",
    "                    self.rowIndex[l] += 1\n",
    "                return\n",
    "            for k in range(val_ind_begin, val_ind_end):                \n",
    "                if self.col[k] == j:        ##если такой элемент уже был в матрице ненулевым\n",
    "                    if value == 0:\n",
    "                        self.values = self.values[:k] + self.values[k+1:]\n",
    "                        self.col = self.col[:k] + self.col[k+1:]\n",
    "                        for l in range(i+1, self.m+1):\n",
    "                            self.rowIndex[l] -= 1\n",
    "                    else:\n",
    "                        self.values[k] = value\n",
    "                    return\n",
    "                else:\n",
    "                    if (k == val_ind_end - 1 or (k!=(val_ind_end-1) and self.col[k] < j and self.col[k+1] > j)):\n",
    "                        if value == 0:\n",
    "                            return\n",
    "                        self.values = self.values[:k+1] + [value] + self.values[k+1:]\n",
    "                        self.col = self.col[:k+1] + [j] + self.col[k+1:]\n",
    "                        for l in range(i+1, self.m+1):\n",
    "                            self.rowIndex[l] += 1\n",
    "                        return      \n",
    "    def __len__(self):\n",
    "        return self.m\n",
    "    def get_crs(mat): \n",
    "        m = len(mat)\n",
    "        n = len(mat[0])\n",
    "        val = []\n",
    "        col = []\n",
    "        rowId = []        \n",
    "        for i in range(m):\n",
    "            rowId+=[len(val)]\n",
    "            for j in range(n):\n",
    "                if mat[i][j] != 0:\n",
    "                    val += [copy.deepcopy(mat[i][j])]\n",
    "                    col += [j]\n",
    "        rowId += [len(val)]\n",
    "        return val, col, rowId"
   ]
  },
  {
   "cell_type": "markdown",
   "metadata": {},
   "source": [
    "Модификация метода Зейделя для работы с разреженными матрицами"
   ]
  },
  {
   "cell_type": "code",
   "execution_count": 15,
   "metadata": {},
   "outputs": [],
   "source": [
    "def modify(A, b, sparse=False):\n",
    "    n = len(A)\n",
    "    if sparse:\n",
    "        B = MatrixCRS(A, zeros=True)\n",
    "    else:\n",
    "        B = np.zeros(shape=(n,n))\n",
    "    c = np.zeros(shape=(n,))\n",
    "    for i in range(n):\n",
    "        c[i] = b[i]/A[i, i]\n",
    "        for j in range(n):\n",
    "            if i != j:\n",
    "                B[i, j] = -A[i, j]/A[i, i]\n",
    "    return B, c\n",
    "def get_b2(B, sparse=False):\n",
    "    if sparse:\n",
    "        B2 = MatrixCRS(B)\n",
    "    else:\n",
    "        B2 = copy.deepcopy(B)\n",
    "    m = len(B2)\n",
    "    for i in range(m):\n",
    "        for j in range(i+1):\n",
    "            B2[i, j] = 0\n",
    "    return B2\n",
    "def zeidel(A, b, x0, n_max, eps, sparse=False):\n",
    "    B, c = modify(A, b, sparse=sparse)\n",
    "    m = x0.shape[0]   \n",
    "    x = np.zeros(m)\n",
    "    x_prev = copy.deepcopy(x0)    \n",
    "    n_iter = 0\n",
    "    n_iter_prev = -1\n",
    "    B2 = get_b2(B, sparse=sparse)\n",
    "    eps = (1-norm(B, ord=np.inf))/norm(B2, ord=np.inf)*eps\n",
    "    while(n_iter != n_max):\n",
    "        n_iter_prev = n_iter\n",
    "        n_iter+=1\n",
    "        assert (n_iter<sys.maxsize-1), \"Too many iterations without convergence\"\n",
    "        for i in range(m):\n",
    "            x[i] = sum([B[i, j]*x[j] for j in range(0, i)]) + \\\n",
    "            sum([B[i, j]*x_prev[j] for j in range(i+1, m)]) + \\\n",
    "            c[i]\n",
    "        delta = norm(x - x_prev, ord=np.inf)\n",
    "        if delta < eps:\n",
    "            return x, n_iter, delta\n",
    "        x_prev = copy.deepcopy(x)    \n",
    "    return x, n_iter, delta"
   ]
  },
  {
   "cell_type": "code",
   "execution_count": 16,
   "metadata": {},
   "outputs": [],
   "source": [
    "A = SparseDiagMatrix()\n",
    "b = b_i()\n",
    "x_prec = solve(A, b)"
   ]
  },
  {
   "cell_type": "code",
   "execution_count": 17,
   "metadata": {},
   "outputs": [
    {
     "name": "stdout",
     "output_type": "stream",
     "text": [
      "Приближенное решение:\n",
      " [ 7.20782663e+04  3.87504620e+02 -1.76578547e+01 -4.00673285e+00\n",
      " -1.06297804e+00 -2.77261700e-01 -1.15650096e-02  9.47020608e-02\n",
      "  1.42645524e-01  1.66390314e-01  1.79156571e-01  1.86625267e-01\n",
      "  1.91437913e-01  1.94898786e-01  1.97681563e-01  2.00145548e-01\n",
      "  2.02486191e-01  2.04810463e-01  2.07176243e-01  2.09613627e-01\n",
      "  2.12136808e-01  2.14750877e-01  2.17455568e-01  2.20248228e-01\n",
      "  2.23124126e-01  2.26076351e-01  2.29109478e-01  2.32180458e-01\n",
      "  2.35325233e-01  2.38615671e-01  2.41361903e-01  2.47254829e-01\n",
      "  2.50929944e-01  2.51487778e-01  2.83673616e-01]\n",
      "Теоритическая погрешность: 2.423339352315786e-10\n",
      "Реальная погрешность: 1.922444425872527e-10\n",
      "Количество итераций: 10\n"
     ]
    }
   ],
   "source": [
    "x0 = np.array([1 for i in range(35)]).reshape([-1,])\n",
    "ans = zeidel(A, b, x0, n_max=None, eps=10**-9, sparse=True)\n",
    "print(\"Приближенное решение:\\n {}\".format(x_prec))\n",
    "delta = ans[2]\n",
    "B, c = modify(A, b, sparse=True)\n",
    "B2 = get_b2(B, sparse=True)\n",
    "err_theor = norm(B2, ord=np.inf)/(1-norm(B, ord=np.inf))*delta\n",
    "err_real = norm(ans[0] - x_prec, ord = np.inf)\n",
    "print(\"Теоритическая погрешность: {}\\nРеальная погрешность: {}\".format(err_theor, err_real))\n",
    "print(\"Количество итераций: {}\".format(ans[1]))"
   ]
  }
 ],
 "metadata": {
  "kernelspec": {
   "display_name": "Python 3",
   "language": "python",
   "name": "python3"
  },
  "language_info": {
   "codemirror_mode": {
    "name": "ipython",
    "version": 3
   },
   "file_extension": ".py",
   "mimetype": "text/x-python",
   "name": "python",
   "nbconvert_exporter": "python",
   "pygments_lexer": "ipython3",
   "version": "3.7.1"
  }
 },
 "nbformat": 4,
 "nbformat_minor": 2
}
