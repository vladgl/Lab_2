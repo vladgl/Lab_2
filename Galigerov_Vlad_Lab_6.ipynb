{
 "cells": [
  {
   "cell_type": "markdown",
   "metadata": {},
   "source": [
    "Вариант 7\n",
    "\n",
    "6.1.7, 6.2.3 , 6.7.2, 6.6.7, 6.9.7"
   ]
  },
  {
   "cell_type": "code",
   "execution_count": 1,
   "metadata": {},
   "outputs": [],
   "source": [
    "import numpy as np\n",
    "from scipy import optimize\n",
    "import math\n",
    "from matplotlib import pyplot as plt\n",
    "%matplotlib inline"
   ]
  },
  {
   "cell_type": "markdown",
   "metadata": {},
   "source": [
    "#### 6.1.7"
   ]
  },
  {
   "cell_type": "markdown",
   "metadata": {},
   "source": [
    "$$P_5(x) = 6.8 + 1.7x - 4.1x^2+0.1x^3-6.1x^4$$\n",
    "\n",
    "$$\\int\\limits_{1}^{1.44}P_5(x)dx $$"
   ]
  },
  {
   "cell_type": "code",
   "execution_count": 2,
   "metadata": {},
   "outputs": [],
   "source": [
    "c = np.array([6.8, 1.7, -4.1, 0.1, -6.1], dtype=float)\n",
    "a = 1\n",
    "b = 1.44"
   ]
  },
  {
   "cell_type": "code",
   "execution_count": 3,
   "metadata": {},
   "outputs": [
    {
     "data": {
      "text/plain": [
       "[<matplotlib.lines.Line2D at 0x7be42075f8>]"
      ]
     },
     "execution_count": 3,
     "metadata": {},
     "output_type": "execute_result"
    },
    {
     "data": {
      "image/png": "[encoded data removed]",
      "text/plain": [
       "<Figure size 432x288 with 1 Axes>"
      ]
     },
     "metadata": {
      "needs_background": "light"
     },
     "output_type": "display_data"
    }
   ],
   "source": [
    "def poly(a, x):\n",
    "    m_1 = len(a)\n",
    "    return sum([a[i]*x**i for i in range(m_1)])\n",
    "\n",
    "def p_5(arg):\n",
    "    return poly(c, arg)\n",
    "def dp_5(arg):\n",
    "    m_1 = len(c)\n",
    "    c1 = [c[i]*i for i in range(1, m_1)]\n",
    "    return poly(c1, arg)\n",
    "def d2p_5(arg):\n",
    "    return -8.2 + 0.6*arg - 6.1*4*3*arg**2\n",
    "\n",
    "x = np.linspace(a, b, 50)\n",
    "y = abs(d2p_5(x))\n",
    "\n",
    "plt.title(\"$|f''(x)|$\")\n",
    "plt.xlabel(\"x\")\n",
    "plt.ylabel(\"y\")\n",
    "plt.plot(x, y)"
   ]
  },
  {
   "cell_type": "code",
   "execution_count": 4,
   "metadata": {},
   "outputs": [
    {
     "data": {
      "text/plain": [
       "(159.12351999999998, 146.4)"
      ]
     },
     "execution_count": 4,
     "metadata": {},
     "output_type": "execute_result"
    }
   ],
   "source": [
    "M2 = abs(d2p_5(1.44))\n",
    "M4 = 146.4\n",
    "M2, M4"
   ]
  },
  {
   "cell_type": "markdown",
   "metadata": {},
   "source": [
    "#### 1\n",
    "\n",
    "Вычислим интеграл аналитически:"
   ]
  },
  {
   "cell_type": "code",
   "execution_count": 5,
   "metadata": {},
   "outputs": [
    {
     "name": "stdout",
     "output_type": "stream",
     "text": [
      "Аналитическое значение интеграла: -5.061041144661332\n"
     ]
    }
   ],
   "source": [
    "c1 = [0] + [c[i]/(i+1) for i in range(len(c))]  ##коэффициенты в полиноме после интегрирования\n",
    "I_analit = poly(c1, b) - poly(c1, a)      ##формула Ньютона-Лейбница\n",
    "I_global = I_analit\n",
    "print(\"Аналитическое значение интеграла: {}\".format(I_analit))"
   ]
  },
  {
   "cell_type": "markdown",
   "metadata": {},
   "source": [
    "#### 2"
   ]
  },
  {
   "cell_type": "code",
   "execution_count": 6,
   "metadata": {},
   "outputs": [],
   "source": [
    "def trapec(func, a, b, N=1):\n",
    "    h = (b-a)/N\n",
    "    \n",
    "    return (func(a) + func(b))*h/2 + h*sum([func(a + i*h) for i in range(1, N)])\n",
    "\n",
    "def simp(func, a, b, N=1):\n",
    "    h = (b-a)/N\n",
    "    I = func(a) + func(b)\n",
    "    I += 4*sum([func((2*a+i*h+(i-1)*h)/2) for i in range(1, N+1)])\n",
    "    I += 2*sum([func(a+i*h) for i in range(1, N)])\n",
    "    return I*h/6"
   ]
  },
  {
   "cell_type": "code",
   "execution_count": 7,
   "metadata": {},
   "outputs": [
    {
     "data": {
      "text/plain": [
       "-5.8924899123199985"
      ]
     },
     "execution_count": 7,
     "metadata": {},
     "output_type": "execute_result"
    }
   ],
   "source": [
    "I_tr = trapec(p_5, a, b, 1)\n",
    "I_tr"
   ]
  },
  {
   "cell_type": "code",
   "execution_count": 8,
   "metadata": {},
   "outputs": [
    {
     "data": {
      "text/plain": [
       "-5.061879468799998"
      ]
     },
     "execution_count": 8,
     "metadata": {},
     "output_type": "execute_result"
    }
   ],
   "source": [
    "I_sp = simp(p_5, a, b, 1)\n",
    "I_sp"
   ]
  },
  {
   "cell_type": "markdown",
   "metadata": {},
   "source": [
    "#### 3"
   ]
  },
  {
   "cell_type": "code",
   "execution_count": 9,
   "metadata": {},
   "outputs": [
    {
     "name": "stdout",
     "output_type": "stream",
     "text": [
      "Погрешность формулы трапеций: 0.8314487676586664\n",
      "Погрешность формулы Симпсона: 0.0008383241386660245\n"
     ]
    }
   ],
   "source": [
    "print(\"Погрешность формулы трапеций: {}\\nПогрешность формулы Симпсона: {}\"\\\n",
    "      .format(abs(I_tr - I_analit), abs(I_sp - I_analit)))"
   ]
  },
  {
   "cell_type": "markdown",
   "metadata": {},
   "source": [
    "#### 4"
   ]
  },
  {
   "cell_type": "markdown",
   "metadata": {},
   "source": [
    "$\\epsilon = 0.0001$\n",
    "\n",
    "Оценка шага для формулы трапеций:\n",
    "\n",
    "$ h \\le \\sqrt{\\frac{12\\epsilon}{M_2(b-a)}} \\\\\n",
    "M_2 = \\max_{x\\in[a, b]}{|f''(x)|}$\n",
    "\n",
    "Оценка шага для формулы Симпсона:\n",
    "\n",
    "$h \\le \\sqrt[4]{\\frac{2880\\epsilon}{M_4(b-a)}} \\\\\n",
    "M_4 = \\max_{x\\in[a, b]}{|f^{IV}(x)|} $"
   ]
  },
  {
   "cell_type": "code",
   "execution_count": 10,
   "metadata": {},
   "outputs": [
    {
     "data": {
      "text/plain": [
       "(0.004139969066452174, 0.25858282967706686)"
      ]
     },
     "execution_count": 10,
     "metadata": {},
     "output_type": "execute_result"
    }
   ],
   "source": [
    "eps = 0.0001\n",
    "\n",
    "h2 = np.sqrt(12*eps/(M2*(b-a)))\n",
    "h4 = (2880*eps/(M4*(b-a)))**(1/4)\n",
    "\n",
    "h2, h4"
   ]
  },
  {
   "cell_type": "markdown",
   "metadata": {},
   "source": [
    "Выразим количество шагов, необходимое для достидения заданной точности через размер шага:"
   ]
  },
  {
   "cell_type": "code",
   "execution_count": 11,
   "metadata": {},
   "outputs": [
    {
     "data": {
      "text/plain": [
       "(107, 2)"
      ]
     },
     "execution_count": 11,
     "metadata": {},
     "output_type": "execute_result"
    }
   ],
   "source": [
    "N2 = math.ceil((b-a)/h2)\n",
    "N4 = math.ceil((b-a)/h4)\n",
    "N2, N4"
   ]
  },
  {
   "cell_type": "markdown",
   "metadata": {},
   "source": [
    "#### 5"
   ]
  },
  {
   "cell_type": "code",
   "execution_count": 12,
   "metadata": {},
   "outputs": [
    {
     "data": {
      "text/plain": [
       "-5.061114059481082"
      ]
     },
     "execution_count": 12,
     "metadata": {},
     "output_type": "execute_result"
    }
   ],
   "source": [
    "I_tr_1 = trapec(p_5, a, b, N2)\n",
    "I_tr_1"
   ]
  },
  {
   "cell_type": "code",
   "execution_count": 13,
   "metadata": {},
   "outputs": [
    {
     "data": {
      "text/plain": [
       "-5.061093539919999"
      ]
     },
     "execution_count": 13,
     "metadata": {},
     "output_type": "execute_result"
    }
   ],
   "source": [
    "I_sp_1 = simp(p_5, a, b, N4)\n",
    "I_sp_1"
   ]
  },
  {
   "cell_type": "markdown",
   "metadata": {},
   "source": [
    "#### 6"
   ]
  },
  {
   "cell_type": "code",
   "execution_count": 14,
   "metadata": {},
   "outputs": [
    {
     "name": "stdout",
     "output_type": "stream",
     "text": [
      "Погрешность формулы трапеций: 7.291481975002512e-05\n",
      "Погрешность формулы Симпсона: 5.2395258666848576e-05\n"
     ]
    }
   ],
   "source": [
    "print(\"Погрешность формулы трапеций: {}\\nПогрешность формулы Симпсона: {}\"\\\n",
    "      .format(abs(I_tr_1 - I_analit), abs(I_sp_1 - I_analit)))"
   ]
  },
  {
   "cell_type": "markdown",
   "metadata": {},
   "source": [
    "#### 6.2.3"
   ]
  },
  {
   "cell_type": "markdown",
   "metadata": {},
   "source": [
    "$$P_6(x) = 0.1-0.1x+x^2+x^3+x^4+x^5$$\n",
    "\n",
    "$$\\int\\limits_{1}^{1.44}P_6(x)dx $$\n",
    "\n",
    "Используется формула трапеций"
   ]
  },
  {
   "cell_type": "code",
   "execution_count": 15,
   "metadata": {},
   "outputs": [
    {
     "name": "stdout",
     "output_type": "stream",
     "text": [
      "Аналитическое значение интеграла: 1\n"
     ]
    }
   ],
   "source": [
    "c = np.array([0.1, -0.1, 1, 1, 1, 1], dtype=float)\n",
    "a = 0\n",
    "b = 1\n",
    "\n",
    "def pn(arg):\n",
    "    return poly(c, arg)\n",
    "\n",
    "I_analit = 1\n",
    "print(\"Аналитическое значение интеграла: {}\".format(I_analit))"
   ]
  },
  {
   "cell_type": "code",
   "execution_count": 16,
   "metadata": {},
   "outputs": [
    {
     "data": {
      "text/plain": [
       "1.2843749999999998"
      ]
     },
     "execution_count": 16,
     "metadata": {},
     "output_type": "execute_result"
    }
   ],
   "source": [
    "In = trapec(pn, a, b, N=2)\n",
    "In"
   ]
  },
  {
   "cell_type": "markdown",
   "metadata": {},
   "source": [
    "Оценим погрешность по правилу Рунге:\n",
    "\n",
    "$\\delta_{2n} = \\theta|I_n - I_{2n}|$\n",
    "\n",
    "Для формулы трапеций $\\theta = \\frac{1}{3}$"
   ]
  },
  {
   "cell_type": "code",
   "execution_count": 17,
   "metadata": {},
   "outputs": [
    {
     "name": "stdout",
     "output_type": "stream",
     "text": [
      "Погрешность по правилу Рунге: 0.2552083333333333\n"
     ]
    }
   ],
   "source": [
    "In_1 = trapec(pn, a, b, N=1)\n",
    "\n",
    "rung = abs(In - In_1)/3\n",
    "\n",
    "print(\"Погрешность по правилу Рунге: {}\".format(rung))"
   ]
  },
  {
   "cell_type": "code",
   "execution_count": 18,
   "metadata": {},
   "outputs": [
    {
     "name": "stdout",
     "output_type": "stream",
     "text": [
      "Реальная абсолютная погрешность: 0.2843749999999998\n"
     ]
    }
   ],
   "source": [
    "print(\"Реальная абсолютная погрешность: {}\".format(abs(I_analit - In)))"
   ]
  },
  {
   "cell_type": "markdown",
   "metadata": {},
   "source": [
    "Формула трапеций дает точный результат только для многочленов первой степени, поскольку эта формула предполагает аппроксимацию прямыми отрезками"
   ]
  },
  {
   "cell_type": "markdown",
   "metadata": {},
   "source": [
    "#### 6.7.2"
   ]
  },
  {
   "cell_type": "markdown",
   "metadata": {},
   "source": [
    "Кривая 1:\n",
    "\n",
    "$ y^2=4x $\n",
    "\n",
    "Кривая 2:\n",
    "\n",
    "$x^2=4y $\n",
    "\n",
    "Используется квадратурная формула Симпсона "
   ]
  },
  {
   "cell_type": "code",
   "execution_count": 19,
   "metadata": {},
   "outputs": [],
   "source": [
    "y1 = np.linspace(-4.5, 4.5, 100)\n",
    "x1 = (y1**2)/4\n",
    "\n",
    "x2 = np.linspace(-4.5, 4.5, 100)\n",
    "y2 = (x2**2)/4"
   ]
  },
  {
   "cell_type": "code",
   "execution_count": 20,
   "metadata": {},
   "outputs": [],
   "source": [
    "x_fill = np.linspace(0, 4, 50)\n",
    "\n",
    "y_fill_1 = np.sqrt(4*x_fill)\n",
    "y_fill_2 = (x_fill**2)/4"
   ]
  },
  {
   "cell_type": "code",
   "execution_count": 21,
   "metadata": {},
   "outputs": [
    {
     "data": {
      "image/png": "[encoded data removed]",
      "text/plain": [
       "<Figure size 432x288 with 1 Axes>"
      ]
     },
     "metadata": {
      "needs_background": "light"
     },
     "output_type": "display_data"
    }
   ],
   "source": [
    "plt.plot(x1, y1, c='g')\n",
    "plt.plot(x2, y2, c='violet')\n",
    "plt.grid()\n",
    "\n",
    "plt.fill_between(x_fill, y_fill_1, y_fill_2, color='grey')\n",
    "plt.scatter((0, 4), (0, 4), c='r')\n",
    "\n",
    "plt.xlabel('x')\n",
    "plt.ylabel('y')\n",
    "\n",
    "plt.legend((\"$ y^2=4x $\", \"$x^2=4y $\", \"Фигура\", \"Точки пересечения\"))\n",
    "\n",
    "plt.title(\"Фигура\")\n",
    "\n",
    "plt.show()"
   ]
  },
  {
   "cell_type": "markdown",
   "metadata": {},
   "source": [
    "Точки пересечения:\n",
    "\n",
    "$ (x1, y1) = (0, 0) \\\\\n",
    "(x2, y2) = (4, 4) $"
   ]
  },
  {
   "cell_type": "code",
   "execution_count": 22,
   "metadata": {},
   "outputs": [],
   "source": [
    "a = 0\n",
    "b = 4"
   ]
  },
  {
   "cell_type": "markdown",
   "metadata": {},
   "source": [
    "Найдем необходимое число шагов для достижения точности $\\epsilon = 10^{-8}$ по правилу Рунге:"
   ]
  },
  {
   "cell_type": "code",
   "execution_count": 23,
   "metadata": {},
   "outputs": [
    {
     "name": "stdout",
     "output_type": "stream",
     "text": [
      "1.0000847261437684e-08\n",
      "1.0000503832448734e-08\n",
      "1.0000173726136078e-08\n",
      "9.999887436625462e-09\n"
     ]
    }
   ],
   "source": [
    "eps = 10**-8\n",
    "delta = eps + 1\n",
    "N = 46090\n",
    "while delta > eps:\n",
    "    N+=1\n",
    "    I2n = simp(lambda x: np.sqrt(4*x), a, b, 2*N) - simp(lambda x: (x**2)/4, a, b, 2*N) \n",
    "    In = simp(lambda x: np.sqrt(4*x), a, b, N) - simp(lambda x: (x**2)/4, a, b, N) \n",
    "    delta = abs(I2n - In)/3\n",
    "    \n",
    "    print(delta)"
   ]
  },
  {
   "cell_type": "code",
   "execution_count": 24,
   "metadata": {},
   "outputs": [
    {
     "name": "stdout",
     "output_type": "stream",
     "text": [
      "Площадь фигуры: 5.333333327532558\n"
     ]
    }
   ],
   "source": [
    "N = 2*N\n",
    "I = simp(lambda x: np.sqrt(4*x), a, b, 2*N) - simp(lambda x: (x**2)/4, a, b, 2*N) \n",
    "print(\"Площадь фигуры: {}\".format(I))"
   ]
  },
  {
   "cell_type": "markdown",
   "metadata": {},
   "source": [
    "#### 6.6.7"
   ]
  },
  {
   "cell_type": "markdown",
   "metadata": {},
   "source": [
    "Вычислим значение интеграла из задачи 6.1.7, используя формулу Гаусса"
   ]
  },
  {
   "cell_type": "code",
   "execution_count": 25,
   "metadata": {},
   "outputs": [],
   "source": [
    "c = np.array([6.8, 1.7, -4.1, 0.1, -6.1], dtype=float)\n",
    "a = 1\n",
    "b = 1.44\n",
    "\n",
    "def p_5(arg):\n",
    "    return poly(c, arg)\n",
    "\n",
    "def gauss(func, N, W, t, a, b):\n",
    "    return ((b-a)/2)*sum([W[i]*func((a+b)/2 + ((b-a)/2)*t[i]) for i in range(N)])"
   ]
  },
  {
   "cell_type": "code",
   "execution_count": 26,
   "metadata": {},
   "outputs": [],
   "source": [
    "Ns = [1, 2, 3, 4]\n",
    "Is = []"
   ]
  },
  {
   "cell_type": "code",
   "execution_count": 27,
   "metadata": {},
   "outputs": [
    {
     "name": "stdout",
     "output_type": "stream",
     "text": [
      "Интеграл по формуле Гаусса с одним узлом: -4.646574247039998\n",
      "Абсолютная погрешность: 0.4144668976213337\n"
     ]
    }
   ],
   "source": [
    "N = 1\n",
    "t = [0]\n",
    "A = [2]\n",
    "\n",
    "I = gauss(p_5, N, A, t, a, b)\n",
    "Is.append(abs(I_global - I))\n",
    "print(\"Интеграл по формуле Гаусса с одним узлом: {}\".format(I))\n",
    "print(\"Абсолютная погрешность: {}\".format(abs(I_global - I)))"
   ]
  },
  {
   "cell_type": "code",
   "execution_count": 28,
   "metadata": {},
   "outputs": [
    {
     "name": "stdout",
     "output_type": "stream",
     "text": [
      "Интеграл по формуле Гаусса с двумя узлами: -5.06048226190222\n",
      "Абсолютная погрешность: 0.0005588827591118672\n"
     ]
    }
   ],
   "source": [
    "N = 2\n",
    "t = [-0.577350269189626, 0.577350269189626]\n",
    "A = [1, 1]\n",
    "I = gauss(p_5, N, A, t, a, b)\n",
    "Is.append(abs(I_global - I))\n",
    "\n",
    "print(\"Интеграл по формуле Гаусса с двумя узлами: {}\".format(I))\n",
    "print(\"Абсолютная погрешность: {}\".format(abs(I_global - I)))"
   ]
  },
  {
   "cell_type": "code",
   "execution_count": 29,
   "metadata": {},
   "outputs": [
    {
     "name": "stdout",
     "output_type": "stream",
     "text": [
      "Интеграл по формуле Гаусса с тремя узлами: -5.061041144723653\n",
      "Абсолютная погрешность: 6.232081517509869e-11\n"
     ]
    }
   ],
   "source": [
    "N = 3\n",
    "t = [-0.77459666929954, 0, 0.77459666929954]\n",
    "A = [0.55555555555556, 0.88888888888888, 0.55555555555556]\n",
    "I = gauss(p_5, N, A, t, a, b)\n",
    "Is.append(abs(I_global - I))\n",
    "\n",
    "print(\"Интеграл по формуле Гаусса с тремя узлами: {}\".format(I))\n",
    "print(\"Абсолютная погрешность: {}\".format(abs(I_global - I)))"
   ]
  },
  {
   "cell_type": "code",
   "execution_count": 30,
   "metadata": {},
   "outputs": [
    {
     "name": "stdout",
     "output_type": "stream",
     "text": [
      "Интеграл по формуле Гаусса с четырьмя узлами: -5.061041144661331\n",
      "Абсолютная погрешность: 8.881784197001252e-16\n"
     ]
    }
   ],
   "source": [
    "N = 4\n",
    "t = [-0.861136311594052, -0.339981043584856, 0.339981043584856, 0.861136311594052]\n",
    "A = [0.347854845137454, 0.652145154862546, 0.652145154862546, 0.347854845137454]\n",
    "I = gauss(p_5, N, A, t, a, b)\n",
    "Is.append(abs(I_global - I))\n",
    "\n",
    "print(\"Интеграл по формуле Гаусса с четырьмя узлами: {}\".format(I))\n",
    "print(\"Абсолютная погрешность: {}\".format(abs(I_global - I)))"
   ]
  },
  {
   "cell_type": "markdown",
   "metadata": {},
   "source": [
    "Гистограмма зависимости абсолютной погрешности от числа узлов:"
   ]
  },
  {
   "cell_type": "code",
   "execution_count": 31,
   "metadata": {},
   "outputs": [
    {
     "data": {
      "image/png": "[encoded data removed]",
      "text/plain": [
       "<Figure size 432x288 with 1 Axes>"
      ]
     },
     "metadata": {
      "needs_background": "light"
     },
     "output_type": "display_data"
    }
   ],
   "source": [
    "plt.bar(Ns, Is)\n",
    "\n",
    "plt.xlabel(\"Число узлов\")\n",
    "plt.ylabel(\"Абсолютная погрешность\")\n",
    "plt.title(\"Hist. 1\")\n",
    "\n",
    "plt.show()"
   ]
  },
  {
   "cell_type": "markdown",
   "metadata": {},
   "source": [
    "Для наглядности изменим масштаб по оси $y$ по формуле\n",
    "\n",
    "$-\\frac{1}{\\log_{e}(x)}$"
   ]
  },
  {
   "cell_type": "code",
   "execution_count": 32,
   "metadata": {},
   "outputs": [
    {
     "data": {
      "image/png": "[encoded data removed]",
      "text/plain": [
       "<Figure size 432x288 with 1 Axes>"
      ]
     },
     "metadata": {
      "needs_background": "light"
     },
     "output_type": "display_data"
    }
   ],
   "source": [
    "plt.bar(Ns, -1/np.log(Is))\n",
    "\n",
    "plt.xlabel(\"Число узлов\")\n",
    "plt.ylabel(\"Абсолютная погрешность\")\n",
    "plt.title(\"Hist. 1\")\n",
    "\n",
    "plt.show()"
   ]
  },
  {
   "cell_type": "markdown",
   "metadata": {},
   "source": [
    "#### 6.9.7"
   ]
  },
  {
   "cell_type": "markdown",
   "metadata": {},
   "source": [
    "Решим интегральное уравнение:\n",
    "\n",
    "$$y(x)-\\lambda\\int\\limits_{a}^{b}k(x,t)y(t)dt = f(x) $$\n",
    "\n",
    "$ k(x, t) = \\frac{1}{5+\\sin(x+t)} $\n",
    "\n",
    "$f(x) = cos(x)$\n",
    "\n",
    "$\\lambda = 0.1$\n",
    "\n",
    "$a=0$\n",
    "\n",
    "$b=\\pi$\n",
    "\n",
    "используя квадратурная формула Гаусса с тремя узлами"
   ]
  },
  {
   "cell_type": "code",
   "execution_count": 33,
   "metadata": {},
   "outputs": [
    {
     "data": {
      "text/plain": [
       "array([0.76499959, 1.05753291, 0.78005651])"
      ]
     },
     "execution_count": 33,
     "metadata": {},
     "output_type": "execute_result"
    }
   ],
   "source": [
    "def k(x, y):\n",
    "    return 1/(5+np.sin(x+y))\n",
    "def f(x):\n",
    "    return np.cos(x)\n",
    "\n",
    "lmb = 0.1\n",
    "a = 0\n",
    "b = np.pi\n",
    "\n",
    "N = 3\n",
    "t = [-0.77459666929954, 0, 0.77459666929954]\n",
    "A = [0.55555555555556, 0.88888888888888, 0.55555555555556]\n",
    "\n",
    "\n",
    "fi = [f(t[i]) for i in range(N)]\n",
    "W = np.zeros(shape=(3,3))\n",
    "z = [(a+b)/2 + ((b-a)/2)*t[i] for i in range(N)]\n",
    "\n",
    "gamma = lmb*(b-a)/2\n",
    "\n",
    "for i in range(3):\n",
    "    for j in range(3):\n",
    "        if i == j:\n",
    "            W[i, i] = 1 - gamma*A[i]*k(z[i], z[i])\n",
    "        else:\n",
    "            W[i, j] = -gamma*A[j]*k(z[i], z[j])\n",
    "        \n",
    "y0 = np.linalg.solve(W, fi)\n",
    "y0"
   ]
  },
  {
   "cell_type": "code",
   "execution_count": 34,
   "metadata": {},
   "outputs": [],
   "source": [
    "def res_func(arg, y0, A, z, f, k):\n",
    "    return f(arg) + sum([A[j]*k(arg, z[j])*y0[j] for j in range(len(y0))])"
   ]
  },
  {
   "cell_type": "code",
   "execution_count": 35,
   "metadata": {},
   "outputs": [
    {
     "name": "stdout",
     "output_type": "stream",
     "text": [
      "Таблица значений:\n",
      "x\ty\n",
      "0.0\t1.32\n",
      "0.31\t1.27\n",
      "0.63\t1.14\n",
      "0.94\t0.92\n",
      "1.26\t0.66\n",
      "1.57\t0.37\n",
      "1.88\t0.07\n",
      "2.2\t-0.19\n",
      "2.51\t-0.4\n",
      "2.83\t-0.53\n",
      "3.14\t-0.58\n"
     ]
    }
   ],
   "source": [
    "h = (b-a)/10\n",
    "\n",
    "hx = [a + q*h for q in range(10+1)]\n",
    "hy = [res_func(arg, y0, A, z, f, k) for arg in hx]\n",
    "print(\"Таблица значений:\")\n",
    "print(\"x\\ty\")\n",
    "for i in range(11):\n",
    "    print(\"{}\\t{}\".format(round(hx[i], 2), round(hy[i], 2)))"
   ]
  },
  {
   "cell_type": "code",
   "execution_count": 36,
   "metadata": {},
   "outputs": [
    {
     "data": {
      "image/png": "[encoded data removed]",
      "text/plain": [
       "<Figure size 432x288 with 1 Axes>"
      ]
     },
     "metadata": {
      "needs_background": "light"
     },
     "output_type": "display_data"
    }
   ],
   "source": [
    "rx = np.linspace(a, b, 100)\n",
    "ry = [res_func(arg, y0, A, z, f, k) for arg in rx]\n",
    "\n",
    "plt.plot(rx, ry)\n",
    "plt.xlabel('x')\n",
    "plt.ylabel('y')\n",
    "plt.title('График решения')\n",
    "plt.show()"
   ]
  }
 ],
 "metadata": {
  "kernelspec": {
   "display_name": "Python 3",
   "language": "python",
   "name": "python3"
  },
  "language_info": {
   "codemirror_mode": {
    "name": "ipython",
    "version": 3
   },
   "file_extension": ".py",
   "mimetype": "text/x-python",
   "name": "python",
   "nbconvert_exporter": "python",
   "pygments_lexer": "ipython3",
   "version": "3.7.1"
  }
 },
 "nbformat": 4,
 "nbformat_minor": 2
}
