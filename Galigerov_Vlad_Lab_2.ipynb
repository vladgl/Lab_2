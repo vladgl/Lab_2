{
 "cells": [
  {
   "cell_type": "markdown",
   "metadata": {},
   "source": [
    "## Теоретический материал\n",
    "\n",
    "#### Метод бисекции \n",
    "Отрезок локализации $[a, b]$ будем считать заданным. Предположим, что функция $f$ непрерывна на отрезке $[a, b]$ и на его концах принимает значения разных знаков (т.е. $f(a)f(b) < 0$). \n",
    "Находим середину отрезка точку $с$. Если $f(c) = 0$, то корень найден. Если $f(a)f(c) < 0$, то следующая итерация будет проводиться на отрезке $[a, c]$, иначе (в случае $f(c)f(b) < 0$), следующая итерация будет проводиться на отрезке $[c, b]$. \n",
    "Середина $n$-го отрезка дает приближение корню $\\bar{x}$ , имеющее оценку погрешности  \n",
    "\n",
    " $|x_n - \\bar{x}| \\leq \\frac{b-a}{2^{n+1}}$\n",
    " \n",
    "Из этой оценки видно, что метод бисекции сходится со скоростью геометрической прогрессии, знаменатель которой $1/2$. \n",
    "Итерации следует вести до тех пор, пока не будет выполнено условие $\\frac{b^n - a^n}{2} < \\epsilon$ . При его выполнении можно принять середину за приближенное решение с точностью $\\epsilon$ . \n",
    "\n",
    "#### Метод Ньютона \n",
    "Берется какое-либо число $x_0$ как можно ближе к искомому корню $\\bar{x}$  и принимается за первое приближение корня. Затем через точку с координатами  $(x_0, f(x_0))$  проводится касательная к графику функции $y=f(x)$ до пересечения с осью абсцисс в точке $(x_1, 0)$. Эта точка пересечения дает нам второе приближение корня $\\bar{x}$ . Повторяя этот процесс, получаем все более и более точные значения $x_0, x_1, x_2, ...$  корня $\\bar{x}$ . \n",
    "С помощью уравнения касательной можно вывести рекуррентную формулу, выражающую очередное, $i+1$-ое приближение $x_{i+1}$  через предыдущее:\n",
    "\n",
    "$x_{i+1} = x_{i} - \\frac{f(x_i)}{f'(x_i)}$\n",
    "\n",
    "Описанный метод называют еще методом касательных. \n",
    "    "
   ]
  },
  {
   "cell_type": "markdown",
   "metadata": {},
   "source": [
    "## Выполнение лабораторной работы"
   ]
  },
  {
   "cell_type": "markdown",
   "metadata": {},
   "source": [
    "Подключим необходимые библиотеки"
   ]
  },
  {
   "cell_type": "code",
   "execution_count": 211,
   "metadata": {},
   "outputs": [],
   "source": [
    "import numpy as np\n",
    "from scipy import optimize\n",
    "import matplotlib\n",
    "from matplotlib import pyplot as plt\n",
    "%matplotlib inline"
   ]
  },
  {
   "cell_type": "markdown",
   "metadata": {},
   "source": [
    "Эта функция необходима для удобства построения графиков функция"
   ]
  },
  {
   "cell_type": "code",
   "execution_count": 212,
   "metadata": {},
   "outputs": [],
   "source": [
    "def plot_func(f, a=0, b=1, step=10**-2, show_grid=True, x_bold=True):\n",
    "    x = np.arange(a, b, step)\n",
    "    y = f(x)\n",
    "    if show_grid:\n",
    "        plt.grid(show_grid)\n",
    "    if x_bold:\n",
    "        plt.plot(x, x*0, 'k')\n",
    "    plt.plot(x, y)"
   ]
  },
  {
   "cell_type": "markdown",
   "metadata": {},
   "source": [
    "Реализуем метод бисекции и метод Ньютона"
   ]
  },
  {
   "cell_type": "code",
   "execution_count": 213,
   "metadata": {},
   "outputs": [],
   "source": [
    "def bisec(f, a, b, eps):\n",
    "    an = a\n",
    "    bn = b\n",
    "    k = 0\n",
    "    while (bn-an)/2>eps:\n",
    "        xn = (an + bn)/2\n",
    "        fa = f(an)\n",
    "        fb = f(bn)\n",
    "        fxn = f(xn)\n",
    "        if fa*fxn <= 0:\n",
    "            bn = xn\n",
    "        else:\n",
    "            an = xn\n",
    "        k+=1\n",
    "    xn = (an + bn)/2\n",
    "    \n",
    "    return xn, k    "
   ]
  },
  {
   "cell_type": "code",
   "execution_count": 214,
   "metadata": {},
   "outputs": [],
   "source": [
    "def newton(f, df, x0, eps):\n",
    "    k = 0\n",
    "    x1 = x0 - f(x0)/df(x0)\n",
    "    k+=1\n",
    "    while abs(x1-x0) >= eps:\n",
    "        x0 = x1\n",
    "        x1 = x0 - f(x0)/df(x0)\n",
    "        k+=1\n",
    "    return x1, k"
   ]
  },
  {
   "cell_type": "markdown",
   "metadata": {},
   "source": [
    "#### Задача 2.1.7"
   ]
  },
  {
   "cell_type": "markdown",
   "metadata": {},
   "source": [
    "Даны два уравнения $f(x)=0$ и $g(x)=0$. Найти с точностью $\\epsilon = 10^{−10}$  все корни уравнений,\n",
    "содержащиеся на отрезке $[a, b]$. Для решения задачи использовать метод бисекции. Найти корни с помощью\n",
    "встроенной функции root пакета MATHCAD."
   ]
  },
  {
   "cell_type": "markdown",
   "metadata": {},
   "source": [
    "$f(x) = ln(x)^2 - 5ln(x) + 6 \\\\\n",
    "g(x) = ln(x)^2 - 4ln(x) + 4 \\\\\n",
    "\\\\\n",
    "a = 5 \\\\\n",
    "b = 25 $"
   ]
  },
  {
   "cell_type": "markdown",
   "metadata": {},
   "source": [
    "Аналитическе решение для $f(x) = 0$:\n",
    "\n",
    "$x1 = e^2 \\approx 7.38905609893065 \\\\\n",
    "x2 = e^3 \\approx 20.085536923187668 $"
   ]
  },
  {
   "cell_type": "markdown",
   "metadata": {},
   "source": [
    "Аналитическе решение для $g(x) = 0$:\n",
    "\n",
    "$x1 = x2 = e^2 \\approx 7.38905609893065 $"
   ]
  },
  {
   "cell_type": "code",
   "execution_count": 215,
   "metadata": {},
   "outputs": [],
   "source": [
    "def f(x):\n",
    "    return np.log(x)**2 - 5*np.log(x) + 6"
   ]
  },
  {
   "cell_type": "code",
   "execution_count": 216,
   "metadata": {},
   "outputs": [],
   "source": [
    "def g(x):\n",
    "    return np.log(x)**2 - 4*np.log(x) + 4"
   ]
  },
  {
   "cell_type": "code",
   "execution_count": 217,
   "metadata": {},
   "outputs": [],
   "source": [
    "eps = 10**-10"
   ]
  },
  {
   "cell_type": "code",
   "execution_count": 218,
   "metadata": {},
   "outputs": [],
   "source": [
    "a = 5\n",
    "b = 25"
   ]
  },
  {
   "cell_type": "markdown",
   "metadata": {},
   "source": [
    "Локализуем корни графически"
   ]
  },
  {
   "cell_type": "code",
   "execution_count": 219,
   "metadata": {},
   "outputs": [
    {
     "data": {
      "image/png": "[encoded data removed]",
      "text/plain": [
       "<Figure size 432x288 with 1 Axes>"
      ]
     },
     "metadata": {
      "needs_background": "light"
     },
     "output_type": "display_data"
    }
   ],
   "source": [
    "plot_func(f, a, b)"
   ]
  },
  {
   "cell_type": "code",
   "execution_count": 220,
   "metadata": {},
   "outputs": [],
   "source": [
    "a1 = 5; b1 = 8\n",
    "a2 = 18; b2 = 21"
   ]
  },
  {
   "cell_type": "markdown",
   "metadata": {},
   "source": [
    "Найдем корни, используя метод бисекции"
   ]
  },
  {
   "cell_type": "code",
   "execution_count": 221,
   "metadata": {},
   "outputs": [
    {
     "name": "stdout",
     "output_type": "stream",
     "text": [
      "x1 = 7.389056 \n",
      "Число итераций = 34\n"
     ]
    }
   ],
   "source": [
    "print(\"x1 = %f \\nЧисло итераций = %d\"%bisec(f, a1, b1, eps))"
   ]
  },
  {
   "cell_type": "code",
   "execution_count": 223,
   "metadata": {},
   "outputs": [
    {
     "name": "stdout",
     "output_type": "stream",
     "text": [
      "x2 = 20.085537 \n",
      "Число итераций = 34\n"
     ]
    }
   ],
   "source": [
    "print(\"x2 = %f \\nЧисло итераций = %d\"%bisec(f, a2, b2, eps))"
   ]
  },
  {
   "cell_type": "markdown",
   "metadata": {},
   "source": [
    "Найдем корни с помощью библиотечной функций root"
   ]
  },
  {
   "cell_type": "code",
   "execution_count": 224,
   "metadata": {},
   "outputs": [
    {
     "data": {
      "text/plain": [
       "[7.389056099639043, 20.085536926477555]"
      ]
     },
     "execution_count": 224,
     "metadata": {},
     "output_type": "execute_result"
    }
   ],
   "source": [
    "optimize.root(f, [a1, b2], ).x.tolist()"
   ]
  },
  {
   "cell_type": "markdown",
   "metadata": {},
   "source": [
    "Проделаем те же операции с функцией $g(x)$"
   ]
  },
  {
   "cell_type": "code",
   "execution_count": 225,
   "metadata": {},
   "outputs": [
    {
     "data": {
      "image/png": "[encoded data removed]",
      "text/plain": [
       "<Figure size 432x288 with 1 Axes>"
      ]
     },
     "metadata": {
      "needs_background": "light"
     },
     "output_type": "display_data"
    }
   ],
   "source": [
    "plot_func(g, a, b)"
   ]
  },
  {
   "cell_type": "code",
   "execution_count": 226,
   "metadata": {},
   "outputs": [],
   "source": [
    "a1 = 5; b1 = 8"
   ]
  },
  {
   "cell_type": "code",
   "execution_count": 227,
   "metadata": {},
   "outputs": [
    {
     "name": "stdout",
     "output_type": "stream",
     "text": [
      "x1 = 8.000000 \n",
      "Число итераций = 34\n"
     ]
    }
   ],
   "source": [
    "print(\"x1 = %f \\nЧисло итераций = %d\"%bisec(g, a1, b1, eps))"
   ]
  },
  {
   "cell_type": "code",
   "execution_count": 228,
   "metadata": {},
   "outputs": [
    {
     "data": {
      "text/plain": [
       "[7.389056240072399, 7.38905599371894]"
      ]
     },
     "execution_count": 228,
     "metadata": {},
     "output_type": "execute_result"
    }
   ],
   "source": [
    "optimize.root(g, [a1, b1], ).x.tolist()"
   ]
  },
  {
   "cell_type": "markdown",
   "metadata": {},
   "source": [
    "Как видим, метод бисекции нашел неправильный ответ. Данный метод не работает в случае, если имеется кратный корень, поскольку тогда уравнение можно представить в виде полного квадрата, т.е. нельзя найти такой отрезок, на границах которого функция будет иметь разный знак."
   ]
  },
  {
   "cell_type": "markdown",
   "metadata": {},
   "source": [
    "#### Задача 2.2.2"
   ]
  },
  {
   "cell_type": "markdown",
   "metadata": {},
   "source": [
    "Найти указанный в варианте корень уравнения $f(x)=0$ с точностью $\\epsilon =10^{−6}$ , двумя способами.\n",
    "\n",
    "а) Использовать метод бисекции. Предварительно определить отрезок локализации $[a, b]$.\n",
    "\n",
    "b) Использовать метод Ньютона. В качестве начального приближения для метода Ньютона взять\n",
    "середину отрезка локализации из п. а).\n",
    "Сравнить число итераций в п. a), b)."
   ]
  },
  {
   "cell_type": "markdown",
   "metadata": {},
   "source": [
    "$f(x) = xe^x - x - 1$"
   ]
  },
  {
   "cell_type": "markdown",
   "metadata": {},
   "source": [
    "Найти корень: положительный"
   ]
  },
  {
   "cell_type": "code",
   "execution_count": 229,
   "metadata": {},
   "outputs": [],
   "source": [
    "def f(x):\n",
    "    return x*np.exp(x) - x - 1\n",
    "def df(x):\n",
    "    return np.exp(x) + x*np.exp(x) - 1"
   ]
  },
  {
   "cell_type": "markdown",
   "metadata": {},
   "source": [
    "Локализуем корень графически"
   ]
  },
  {
   "cell_type": "code",
   "execution_count": 230,
   "metadata": {},
   "outputs": [
    {
     "data": {
      "image/png": "[encoded data removed]",
      "text/plain": [
       "<Figure size 432x288 with 1 Axes>"
      ]
     },
     "metadata": {
      "needs_background": "light"
     },
     "output_type": "display_data"
    }
   ],
   "source": [
    "plot_func(f)"
   ]
  },
  {
   "cell_type": "code",
   "execution_count": 231,
   "metadata": {},
   "outputs": [],
   "source": [
    "eps = 10**-6"
   ]
  },
  {
   "cell_type": "code",
   "execution_count": 232,
   "metadata": {},
   "outputs": [],
   "source": [
    "a1 = 0.6; b1 = 0.9"
   ]
  },
  {
   "cell_type": "markdown",
   "metadata": {},
   "source": [
    "Метод бисекции"
   ]
  },
  {
   "cell_type": "code",
   "execution_count": 233,
   "metadata": {},
   "outputs": [
    {
     "name": "stdout",
     "output_type": "stream",
     "text": [
      "x1 = 0.806466 \n",
      "Число итераций = 18\n"
     ]
    }
   ],
   "source": [
    "print(\"x1 = %f \\nЧисло итераций = %d\"%bisec(f, a1, b1, eps))"
   ]
  },
  {
   "cell_type": "markdown",
   "metadata": {},
   "source": [
    "Метод Ньютона"
   ]
  },
  {
   "cell_type": "code",
   "execution_count": 234,
   "metadata": {},
   "outputs": [
    {
     "name": "stdout",
     "output_type": "stream",
     "text": [
      "x1 = 0.806466 \n",
      "Число итераций = 4\n"
     ]
    }
   ],
   "source": [
    "print(\"x1 = %f \\nЧисло итераций = %d\"%newton(f, df, (b1+a1)/2, eps))"
   ]
  },
  {
   "cell_type": "markdown",
   "metadata": {},
   "source": [
    "Как видно, метод Ньютона справился с задачей бестрее (за меньшее число итераций), чем метод бисекции"
   ]
  },
  {
   "cell_type": "markdown",
   "metadata": {},
   "source": [
    "#### Задача 2.10.3"
   ]
  },
  {
   "cell_type": "markdown",
   "metadata": {},
   "source": [
    "Функция $y=f(x)$ задана неявно уравнением $F(x,y)=0$. На отрезке $[1, 5]$ построить таблицу значений\n",
    "функции $y=f(x)$ с шагом $h=0.5$, применяя один из методов численного решения нелинейного уравнения (с\n",
    "точностью $\\epsilon =10^{−7}$ ). Построить график функции $y=f(x)$ на заданном отрезке."
   ]
  },
  {
   "cell_type": "markdown",
   "metadata": {},
   "source": [
    "$F(x, y) = e^{xy} - \\cos(xy^3)$"
   ]
  },
  {
   "cell_type": "markdown",
   "metadata": {},
   "source": [
    "$x \\in [0.5, 1.5] \\\\\n",
    "y \\in [-1.3, -0.3] $"
   ]
  },
  {
   "cell_type": "code",
   "execution_count": 250,
   "metadata": {},
   "outputs": [],
   "source": [
    "def F(x, y):\n",
    "    return np.exp(x*y) - np.cos(x*y**3)"
   ]
  },
  {
   "cell_type": "code",
   "execution_count": 251,
   "metadata": {},
   "outputs": [],
   "source": [
    "def dFdx(x, y):\n",
    "    return y*np.exp(x*y) + y**3*np.sin(x*y**3)\n",
    "def dFdy(x, y):\n",
    "    return x*np.exp(x*y) + 3*x*(y**2)*np.sin(x*(y**3))"
   ]
  },
  {
   "cell_type": "markdown",
   "metadata": {},
   "source": [
    "Построим $y = f(x)$ на отрезке $[1, 5]$ с шагом $h = 0.5$"
   ]
  },
  {
   "cell_type": "code",
   "execution_count": 269,
   "metadata": {},
   "outputs": [
    {
     "data": {
      "image/png": "[encoded data removed]",
      "text/plain": [
       "<Figure size 432x288 with 1 Axes>"
      ]
     },
     "metadata": {
      "needs_background": "light"
     },
     "output_type": "display_data"
    }
   ],
   "source": [
    "x11 = 1; x22 = 5; h = 0.5; eps = 10**-7\n",
    "x = np.arange(x11, x22+h, h)\n",
    "plot_func(lambda y : F((x11+x22)/2, y), a = -2, b = 0)"
   ]
  },
  {
   "cell_type": "markdown",
   "metadata": {},
   "source": [
    "По построенному $F_1(y) = F(x1, y)$ локализуем начальное приближение $y_0$ для метода Ньютона"
   ]
  },
  {
   "cell_type": "code",
   "execution_count": 270,
   "metadata": {},
   "outputs": [],
   "source": [
    "y0 = -1.25\n",
    "y = []"
   ]
  },
  {
   "cell_type": "code",
   "execution_count": 271,
   "metadata": {},
   "outputs": [],
   "source": [
    "for i in range(x.shape[0]):   \n",
    "    y.append(newton(lambda y: F(x[i], y), lambda y: dFdy(x[i], y), y0, eps)[0])"
   ]
  },
  {
   "cell_type": "code",
   "execution_count": 272,
   "metadata": {},
   "outputs": [
    {
     "name": "stdout",
     "output_type": "stream",
     "text": [
      "x\t\t\t  y\n",
      "1.0 \t\t\t -1.07\n",
      "1.5 \t\t\t 0.0\n",
      "2.0 \t\t\t -1.34\n",
      "2.5 \t\t\t -1.24\n",
      "3.0 \t\t\t -1.16\n",
      "3.5 \t\t\t -1.31\n",
      "4.0 \t\t\t -1.25\n",
      "4.5 \t\t\t -1.2\n",
      "5.0 \t\t\t -1.51\n"
     ]
    }
   ],
   "source": [
    "print('x\\t\\t\\t  y')\n",
    "[print(round(_x, 2), '\\t\\t\\t', round(_y, 2)) for _x, _y in zip(x, y)]\n",
    "pass"
   ]
  },
  {
   "cell_type": "code",
   "execution_count": 273,
   "metadata": {},
   "outputs": [
    {
     "data": {
      "text/plain": [
       "(-2, 0)"
      ]
     },
     "execution_count": 273,
     "metadata": {},
     "output_type": "execute_result"
    },
    {
     "data": {
      "image/png": "[encoded data removed]",
      "text/plain": [
       "<Figure size 432x288 with 1 Axes>"
      ]
     },
     "metadata": {
      "needs_background": "light"
     },
     "output_type": "display_data"
    }
   ],
   "source": [
    "plt.plot(x, y)\n",
    "plt.xlim(x11-0.1, x22+0.1)\n",
    "plt.ylim(-2, 0)"
   ]
  },
  {
   "cell_type": "markdown",
   "metadata": {},
   "source": [
    "Построим теперь эту функцию, учитывая данные условия:"
   ]
  },
  {
   "cell_type": "markdown",
   "metadata": {},
   "source": [
    "$x \\in [0.5, 1.5] \\\\\n",
    "y \\in [-1.3, -0.3] $"
   ]
  },
  {
   "cell_type": "code",
   "execution_count": 282,
   "metadata": {},
   "outputs": [],
   "source": [
    "eps = 10**-7\n",
    "h = 0.1\n",
    "step = 10**-1\n",
    "x1 = 0.5; x2 = 1.5\n",
    "y1 = -1.3; y2 = -0.3"
   ]
  },
  {
   "cell_type": "code",
   "execution_count": 283,
   "metadata": {},
   "outputs": [],
   "source": [
    "x = np.arange(x1, x2+h, h)"
   ]
  },
  {
   "cell_type": "code",
   "execution_count": 284,
   "metadata": {},
   "outputs": [],
   "source": [
    "y = []"
   ]
  },
  {
   "cell_type": "markdown",
   "metadata": {},
   "source": [
    "Локализуем $y_0$:"
   ]
  },
  {
   "cell_type": "code",
   "execution_count": 285,
   "metadata": {},
   "outputs": [
    {
     "data": {
      "image/png": "[encoded data removed]",
      "text/plain": [
       "<Figure size 432x288 with 1 Axes>"
      ]
     },
     "metadata": {
      "needs_background": "light"
     },
     "output_type": "display_data"
    }
   ],
   "source": [
    "plot_func(lambda y : F((x1+x2)/2, y), a = -2, b = 2)"
   ]
  },
  {
   "cell_type": "code",
   "execution_count": 286,
   "metadata": {},
   "outputs": [],
   "source": [
    "y0 = -1"
   ]
  },
  {
   "cell_type": "code",
   "execution_count": 287,
   "metadata": {},
   "outputs": [],
   "source": [
    "for i in range(x.shape[0]):   \n",
    "    y.append(newton(lambda y: F(x[i], y), lambda y: dFdy(x[i], y), y0, eps)[0])"
   ]
  },
  {
   "cell_type": "code",
   "execution_count": 288,
   "metadata": {
    "scrolled": true
   },
   "outputs": [
    {
     "data": {
      "text/plain": [
       "(-2, 0)"
      ]
     },
     "execution_count": 288,
     "metadata": {},
     "output_type": "execute_result"
    },
    {
     "data": {
      "image/png": "[encoded data removed]",
      "text/plain": [
       "<Figure size 432x288 with 1 Axes>"
      ]
     },
     "metadata": {
      "needs_background": "light"
     },
     "output_type": "display_data"
    }
   ],
   "source": [
    "plt.plot(x, y)\n",
    "plt.xlim(x1-0.1, x2+0.1)\n",
    "plt.ylim(-2, 0)"
   ]
  },
  {
   "cell_type": "code",
   "execution_count": null,
   "metadata": {},
   "outputs": [],
   "source": []
  }
 ],
 "metadata": {
  "kernelspec": {
   "display_name": "Python 3",
   "language": "python",
   "name": "python3"
  },
  "language_info": {
   "codemirror_mode": {
    "name": "ipython",
    "version": 3
   },
   "file_extension": ".py",
   "mimetype": "text/x-python",
   "name": "python",
   "nbconvert_exporter": "python",
   "pygments_lexer": "ipython3",
   "version": "3.7.1"
  }
 },
 "nbformat": 4,
 "nbformat_minor": 2
}
